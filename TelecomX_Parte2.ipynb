{
 "cells": [
  {
   "cell_type": "markdown",
   "id": "3637a353",
   "metadata": {},
   "source": [
    "# 📊 Telecom X – Parte 2: Predicción de Cancelación (Churn)\n",
    "\n",
    "Notebook desarrollado como parte del Challenge de **Telecom X**.\n",
    "\n",
    "Incluye: carga de datos, preprocesamiento, EDA, modelado, evaluación y conclusiones estratégicas."
   ]
  },
  {
   "cell_type": "code",
   "execution_count": null,
   "id": "7e9cdb99",
   "metadata": {},
   "outputs": [],
   "source": [
    "\n",
    "# Importar librerías principales\n",
    "import pandas as pd\n",
    "import numpy as np\n",
    "import matplotlib.pyplot as plt\n",
    "import seaborn as sns\n",
    "\n",
    "from sklearn.model_selection import train_test_split\n",
    "from sklearn.preprocessing import StandardScaler\n",
    "from sklearn.linear_model import LogisticRegression\n",
    "from sklearn.ensemble import RandomForestClassifier\n",
    "from sklearn.metrics import accuracy_score, precision_score, recall_score, f1_score, confusion_matrix, classification_report\n"
   ]
  },
  {
   "cell_type": "markdown",
   "id": "76371e8d",
   "metadata": {},
   "source": [
    "## 1. Carga de datos\n",
    "\n",
    "Se carga el archivo CSV previamente tratado en la Parte 1 (datos limpios y organizados)."
   ]
  },
  {
   "cell_type": "code",
   "execution_count": null,
   "id": "0c41d1b7",
   "metadata": {},
   "outputs": [],
   "source": [
    "\n",
    "# ⚠️ Cambiar por el nombre correcto del archivo limpio exportado en la Parte 1\n",
    "df = pd.read_csv(\"TelecomX_clean.csv\")\n",
    "\n",
    "df.head()\n"
   ]
  },
  {
   "cell_type": "markdown",
   "id": "c4d8664b",
   "metadata": {},
   "source": [
    "## 2. Limpieza de columnas irrelevantes\n",
    "\n",
    "Eliminamos identificadores únicos como `customerID`, que no aportan valor predictivo."
   ]
  },
  {
   "cell_type": "code",
   "execution_count": null,
   "id": "4009218b",
   "metadata": {},
   "outputs": [],
   "source": [
    "\n",
    "# Eliminamos columnas irrelevantes\n",
    "df = df.drop(columns=[\"customerID\"], errors=\"ignore\")\n",
    "df = df.loc[:, ~df.columns.str.contains('^Unnamed')]\n",
    "df.head()\n"
   ]
  },
  {
   "cell_type": "markdown",
   "id": "12a49dda",
   "metadata": {},
   "source": [
    "## 3. Transformación de variables categóricas\n",
    "\n",
    "Se aplica One-Hot Encoding a variables categóricas. La variable target `Churn` se convierte a binaria (Yes=1, No=0)."
   ]
  },
  {
   "cell_type": "code",
   "execution_count": null,
   "id": "40097398",
   "metadata": {},
   "outputs": [],
   "source": [
    "\n",
    "# Variable target\n",
    "y = df[\"Churn\"].map({\"Yes\": 1, \"No\": 0})\n",
    "X = df.drop(columns=[\"Churn\"])\n",
    "\n",
    "# One-hot encoding\n",
    "X = pd.get_dummies(X, drop_first=True)\n",
    "X.head()\n"
   ]
  },
  {
   "cell_type": "markdown",
   "id": "95c06017",
   "metadata": {},
   "source": [
    "## 4. Balance de clases\n",
    "\n",
    "Se revisa la proporción de clientes que cancelaron vs. los que permanecieron."
   ]
  },
  {
   "cell_type": "code",
   "execution_count": null,
   "id": "bbbf349c",
   "metadata": {},
   "outputs": [],
   "source": [
    "\n",
    "churn_dist = y.value_counts(normalize=True) * 100\n",
    "print(\"Distribución de Churn (%):\\n\", churn_dist)\n",
    "\n",
    "churn_dist.plot(kind=\"bar\", color=[\"skyblue\",\"salmon\"])\n",
    "plt.title(\"Proporción de clientes: Churn vs No Churn\")\n",
    "plt.ylabel(\"%\")\n",
    "plt.xticks(rotation=0)\n",
    "plt.show()\n"
   ]
  },
  {
   "cell_type": "markdown",
   "id": "b5bbfdc7",
   "metadata": {},
   "source": [
    "## 5. Correlación entre variables numéricas\n",
    "\n",
    "Se visualizan las correlaciones para identificar variables relevantes."
   ]
  },
  {
   "cell_type": "code",
   "execution_count": null,
   "id": "5c279c82",
   "metadata": {},
   "outputs": [],
   "source": [
    "\n",
    "df_corr = df[[\"tenure\", \"Charges.Monthly\", \"Charges.Total\", \"Churn\"]].copy()\n",
    "df_corr[\"Churn\"] = df_corr[\"Churn\"].map({\"Yes\": 1, \"No\": 0})\n",
    "\n",
    "plt.figure(figsize=(8,6))\n",
    "sns.heatmap(df_corr.corr(), annot=True, cmap=\"coolwarm\", center=0)\n",
    "plt.title(\"Matriz de correlación\")\n",
    "plt.show()\n"
   ]
  },
  {
   "cell_type": "markdown",
   "id": "a75f4fbf",
   "metadata": {},
   "source": [
    "## 6. Exploración de variables clave vs Churn\n",
    "\n",
    "Se analizan `tenure` y `Charges.Total` respecto a la cancelación."
   ]
  },
  {
   "cell_type": "code",
   "execution_count": null,
   "id": "ee6bb2ed",
   "metadata": {},
   "outputs": [],
   "source": [
    "\n",
    "# Boxplot tenure\n",
    "sns.boxplot(x=y, y=df[\"tenure\"], palette=\"Set2\")\n",
    "plt.title(\"Tiempo de contrato vs Churn\")\n",
    "plt.show()\n",
    "\n",
    "# Boxplot gasto total\n",
    "sns.boxplot(x=y, y=df[\"Charges.Total\"], palette=\"Set1\")\n",
    "plt.title(\"Gasto total vs Churn\")\n",
    "plt.show()\n",
    "\n",
    "# Scatter tenure vs gasto total\n",
    "sns.scatterplot(x=df[\"tenure\"], y=df[\"Charges.Total\"], hue=y, alpha=0.6)\n",
    "plt.title(\"Relación Tenure y Gasto Total por Cancelación\")\n",
    "plt.show()\n"
   ]
  },
  {
   "cell_type": "markdown",
   "id": "34c691e7",
   "metadata": {},
   "source": [
    "## 7. Normalización de variables numéricas\n",
    "\n",
    "Se normalizan variables numéricas solo para modelos sensibles a escala (ej. Regresión Logística)."
   ]
  },
  {
   "cell_type": "code",
   "execution_count": null,
   "id": "fd3ff5dd",
   "metadata": {},
   "outputs": [],
   "source": [
    "\n",
    "num_cols = [\"tenure\", \"Charges.Monthly\", \"Charges.Total\"]\n",
    "scaler = StandardScaler()\n",
    "X_scaled = X.copy()\n",
    "X_scaled[num_cols] = scaler.fit_transform(X_scaled[num_cols])\n"
   ]
  },
  {
   "cell_type": "markdown",
   "id": "0c13067f",
   "metadata": {},
   "source": [
    "## 8. División en train y test\n",
    "\n",
    "Se separan los datos en 70% entrenamiento y 30% prueba, manteniendo la proporción de clases (stratify)."
   ]
  },
  {
   "cell_type": "code",
   "execution_count": null,
   "id": "060c585d",
   "metadata": {},
   "outputs": [],
   "source": [
    "\n",
    "X_train, X_test, y_train, y_test = train_test_split(X, y, test_size=0.3, random_state=42, stratify=y)\n",
    "X_train_scaled, X_test_scaled, _, _ = train_test_split(X_scaled, y, test_size=0.3, random_state=42, stratify=y)\n",
    "\n",
    "print(\"Train:\", X_train.shape, \"Test:\", X_test.shape)\n"
   ]
  },
  {
   "cell_type": "markdown",
   "id": "0a9e52ae",
   "metadata": {},
   "source": [
    "## 9. Modelado\n",
    "\n",
    "- **Modelo 1:** Regresión Logística (con datos normalizados).\n",
    "- **Modelo 2:** Random Forest (sin normalización)."
   ]
  },
  {
   "cell_type": "code",
   "execution_count": null,
   "id": "19298cc1",
   "metadata": {},
   "outputs": [],
   "source": [
    "\n",
    "log_reg = LogisticRegression(max_iter=1000, random_state=42)\n",
    "log_reg.fit(X_train_scaled, y_train)\n",
    "\n",
    "rf_clf = RandomForestClassifier(n_estimators=200, random_state=42)\n",
    "rf_clf.fit(X_train, y_train)\n"
   ]
  },
  {
   "cell_type": "markdown",
   "id": "dfe88a41",
   "metadata": {},
   "source": [
    "## 10. Evaluación de modelos\n",
    "\n",
    "Se calculan métricas: Accuracy, Precisión, Recall, F1-score y Matriz de confusión."
   ]
  },
  {
   "cell_type": "code",
   "execution_count": null,
   "id": "68afadb3",
   "metadata": {},
   "outputs": [],
   "source": [
    "\n",
    "def evaluar_modelo(modelo, X_tr, X_te, y_tr, y_te, nombre):\n",
    "    print(f\"===== {nombre} =====\")\n",
    "    y_pred_train = modelo.predict(X_tr)\n",
    "    y_pred_test = modelo.predict(X_te)\n",
    "    \n",
    "    acc = accuracy_score(y_te, y_pred_test)\n",
    "    prec = precision_score(y_te, y_pred_test)\n",
    "    rec = recall_score(y_te, y_pred_test)\n",
    "    f1 = f1_score(y_te, y_pred_test)\n",
    "    \n",
    "    print(f\"Accuracy : {acc:.4f}\")\n",
    "    print(f\"Precisión: {prec:.4f}\")\n",
    "    print(f\"Recall   : {rec:.4f}\")\n",
    "    print(f\"F1-score : {f1:.4f}\\n\")\n",
    "    \n",
    "    print(\"Reporte de clasificación:\")\n",
    "    print(classification_report(y_te, y_pred_test))\n",
    "    \n",
    "    cm = confusion_matrix(y_te, y_pred_test)\n",
    "    sns.heatmap(cm, annot=True, fmt=\"d\", cmap=\"Blues\", xticklabels=[\"No Churn\",\"Churn\"], yticklabels=[\"No Churn\",\"Churn\"])\n",
    "    plt.title(f\"Matriz de confusión - {nombre}\")\n",
    "    plt.show()\n",
    "    \n",
    "    print(\"=\"*40)\n",
    "\n",
    "# Evaluamos ambos\n",
    "evaluar_modelo(log_reg, X_train_scaled, X_test_scaled, y_train, y_test, \"Regresión Logística\")\n",
    "evaluar_modelo(rf_clf, X_train, X_test, y_train, y_test, \"Random Forest\")\n"
   ]
  },
  {
   "cell_type": "markdown",
   "id": "070440ca",
   "metadata": {},
   "source": [
    "## 11. Importancia de variables\n",
    "\n",
    "- **Regresión Logística:** análisis de coeficientes.\n",
    "- **Random Forest:** importancia de variables según impureza."
   ]
  },
  {
   "cell_type": "code",
   "execution_count": null,
   "id": "577784ff",
   "metadata": {},
   "outputs": [],
   "source": [
    "\n",
    "# Coeficientes RL\n",
    "coef = pd.DataFrame({\n",
    "    \"Variable\": X_train_scaled.columns,\n",
    "    \"Coeficiente\": log_reg.coef_[0]\n",
    "}).sort_values(by=\"Coeficiente\", ascending=False)\n",
    "\n",
    "plt.figure(figsize=(8,6))\n",
    "sns.barplot(y=\"Variable\", x=\"Coeficiente\", data=coef.head(10), palette=\"coolwarm\")\n",
    "plt.title(\"Top variables - Regresión Logística\")\n",
    "plt.show()\n",
    "\n",
    "# Importancia RF\n",
    "importancias = pd.DataFrame({\n",
    "    \"Variable\": X_train.columns,\n",
    "    \"Importancia\": rf_clf.feature_importances_\n",
    "}).sort_values(by=\"Importancia\", ascending=False)\n",
    "\n",
    "plt.figure(figsize=(8,6))\n",
    "sns.barplot(y=\"Variable\", x=\"Importancia\", data=importancias.head(10), palette=\"viridis\")\n",
    "plt.title(\"Top variables - Random Forest\")\n",
    "plt.show()\n"
   ]
  },
  {
   "cell_type": "markdown",
   "id": "2faa937c",
   "metadata": {},
   "source": [
    "## 12. Conclusiones Estratégicas\n",
    "\n",
    "📌 **Factores más influyentes en la cancelación:**\n",
    "- Contrato mes a mes (riesgo alto).\n",
    "- Clientes con bajo tenure (poca antigüedad).\n",
    "- Método de pago Electronic Check.\n",
    "- Cargos mensuales altos.\n",
    "- Ausencia de servicios de valor agregado.\n",
    "\n",
    "📌 **Estrategias de retención propuestas:**\n",
    "- Migrar clientes de mes a mes a contratos de 1–2 años con incentivos.\n",
    "- Contacto proactivo en primeros 90 días.\n",
    "- Ofrecer bundles/planes optimizados para clientes con MonthlyCharges altos.\n",
    "- Incentivar métodos de pago estables (tarjeta/transferencia).\n",
    "- Promover servicios de valor agregado como seguridad online y soporte técnico.\n",
    "\n",
    "👉 Con estas acciones, se espera reducir el churn y aumentar la fidelidad del cliente."
   ]
  }
 ],
 "metadata": {},
 "nbformat": 4,
 "nbformat_minor": 5
}